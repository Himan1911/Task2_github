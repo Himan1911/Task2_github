{
 "cells": [
  {
   "cell_type": "code",
   "execution_count": 28,
   "id": "6e6b89e3",
   "metadata": {},
   "outputs": [
    {
     "name": "stdout",
     "output_type": "stream",
     "text": [
      "enter url of a medium article:\n",
      ">https://medium.com/\n",
      "paragraphs text = \n",
      " [<p class=\"bv b bw bx by\"><a class=\"ay az ba bb bc bd be bf bg bh bi bj bk bl bm\" href=\"https://medium.com/about?autoplay=1\" rel=\"noopener follow\">Our story</a></p>, <p class=\"bv b bw bx by\"><a class=\"ay az ba bb bc bd be bf bg bh bi bj bk bl bm\" href=\"https://medium.com/membership\" rel=\"noopener follow\">Membership</a></p>, <p class=\"bv b bw bx by\"><a class=\"ay az ba bb bc bd be bf bg bh bi bj bk bl bm\" href=\"https://about.medium.com/creators/\" rel=\"noopener follow\">Write</a></p>, <p class=\"bv b bw bx by\"><span><a class=\"ay az ba bb bc bd be bf bg bh bi bj bk bl bm\" href=\"/m/signin?operation=login&amp;redirect=https%3A%2F%2Fmedium.com%2F&amp;source=--------------------------lo_home_nav--------------\" rel=\"noopener follow\">Sign In</a></span></p>, <p class=\"bv hq hr hs ht by hu\">Trending on Medium</p>, <p class=\"bv b hz bx ia\"><div class=\"am\"><span>Jan 7</span><div aria-hidden=\"true\" class=\"je jf y\"><span aria-hidden=\"true\" class=\"y\"><span class=\"bv b bw bx ia\">·</span></span></div><span class=\"bv b hz bx ia\">17 min read</span></div></p>, <p class=\"bv b hz bx ia\"><div class=\"am\"><span>Jan 5</span><div aria-hidden=\"true\" class=\"je jf y\"><span aria-hidden=\"true\" class=\"y\"><span class=\"bv b bw bx ia\">·</span></span></div><span class=\"bv b hz bx ia\">10 min read</span><span class=\"jh je di gu ji jj bx\"><svg aria-label=\"Member only content\" class=\"star-15px_svg__svgIcon-use\" height=\"15\" viewbox=\"0 0 15 15\" width=\"15\"><path d=\"M7.44 2.32c.03-.1.09-.1.12 0l1.2 3.53a.29.29 0 0 0 .26.2h3.88c.11 0 .13.04.04.1L9.8 8.33a.27.27 0 0 0-.1.29l1.2 3.53c.03.1-.01.13-.1.07l-3.14-2.18a.3.3 0 0 0-.32 0L4.2 12.22c-.1.06-.14.03-.1-.07l1.2-3.53a.27.27 0 0 0-.1-.3L2.06 6.16c-.1-.06-.07-.12.03-.12h3.89a.29.29 0 0 0 .26-.19l1.2-3.52z\"></path></svg></span></div></p>, <p class=\"bv b hz bx ia\"><div class=\"am\"><span>Jan 5</span><div aria-hidden=\"true\" class=\"je jf y\"><span aria-hidden=\"true\" class=\"y\"><span class=\"bv b bw bx ia\">·</span></span></div><span class=\"bv b hz bx ia\">6 min read</span></div></p>, <p class=\"bv b hz bx ia\"><div class=\"am\"><span>Jan 4</span><div aria-hidden=\"true\" class=\"je jf y\"><span aria-hidden=\"true\" class=\"y\"><span class=\"bv b bw bx ia\">·</span></span></div><span class=\"bv b hz bx ia\">5 min read</span><span class=\"jh je di gu ji jj bx\"><svg aria-label=\"Member only content\" class=\"star-15px_svg__svgIcon-use\" height=\"15\" viewbox=\"0 0 15 15\" width=\"15\"><path d=\"M7.44 2.32c.03-.1.09-.1.12 0l1.2 3.53a.29.29 0 0 0 .26.2h3.88c.11 0 .13.04.04.1L9.8 8.33a.27.27 0 0 0-.1.29l1.2 3.53c.03.1-.01.13-.1.07l-3.14-2.18a.3.3 0 0 0-.32 0L4.2 12.22c-.1.06-.14.03-.1-.07l1.2-3.53a.27.27 0 0 0-.1-.3L2.06 6.16c-.1-.06-.07-.12.03-.12h3.89a.29.29 0 0 0 .26-.19l1.2-3.52z\"></path></svg></span></div></p>, <p class=\"bv b hz bx ia\"><div class=\"am\"><span>Dec 31, 2021</span><div aria-hidden=\"true\" class=\"je jf y\"><span aria-hidden=\"true\" class=\"y\"><span class=\"bv b bw bx ia\">·</span></span></div><span class=\"bv b hz bx ia\">4 min read</span><span class=\"jh je di gu ji jj bx\"><svg aria-label=\"Member only content\" class=\"star-15px_svg__svgIcon-use\" height=\"15\" viewbox=\"0 0 15 15\" width=\"15\"><path d=\"M7.44 2.32c.03-.1.09-.1.12 0l1.2 3.53a.29.29 0 0 0 .26.2h3.88c.11 0 .13.04.04.1L9.8 8.33a.27.27 0 0 0-.1.29l1.2 3.53c.03.1-.01.13-.1.07l-3.14-2.18a.3.3 0 0 0-.32 0L4.2 12.22c-.1.06-.14.03-.1-.07l1.2-3.53a.27.27 0 0 0-.1-.3L2.06 6.16c-.1-.06-.07-.12.03-.12h3.89a.29.29 0 0 0 .26-.19l1.2-3.52z\"></path></svg></span></div></p>, <p class=\"bv b hz bx ia\"><div class=\"am\"><span>Dec 30, 2021</span><div aria-hidden=\"true\" class=\"je jf y\"><span aria-hidden=\"true\" class=\"y\"><span class=\"bv b bw bx ia\">·</span></span></div><span class=\"bv b hz bx ia\">4 min read</span></div></p>, <p class=\"bv hq hr hs ht by hu\">Discover more of what matters to you</p>, <p class=\"bv b hz bx ia\">Self</p>, <p class=\"bv b hz bx ia\">Relationships</p>, <p class=\"bv b hz bx ia\">Data Science</p>, <p class=\"bv b hz bx ia\">Programming</p>, <p class=\"bv b hz bx ia\">Productivity</p>, <p class=\"bv b hz bx ia\">Javascript</p>, <p class=\"bv b hz bx ia\">Machine Learning</p>, <p class=\"bv b hz bx ia\">Politics</p>, <p class=\"bv b hz bx ia\">Health</p>, <p class=\"bv hq hr hs ht by hu\">Discover more of what matters to you</p>, <p class=\"bv b hz bx ia\">Self</p>, <p class=\"bv b hz bx ia\">Relationships</p>, <p class=\"bv b hz bx ia\">Data Science</p>, <p class=\"bv b hz bx ia\">Programming</p>, <p class=\"bv b hz bx ia\">Productivity</p>, <p class=\"bv b hz bx ia\">Javascript</p>, <p class=\"bv b hz bx ia\">Machine Learning</p>, <p class=\"bv b hz bx ia\">Politics</p>, <p class=\"bv b hz bx ia\">Health</p>, <p class=\"bv b bw bx ia\">Help</p>, <p class=\"bv b bw bx ia\">Status</p>, <p class=\"bv b bw bx ia\">Writers</p>, <p class=\"bv b bw bx ia\">Blog</p>, <p class=\"bv b bw bx ia\">Careers</p>, <p class=\"bv b bw bx ia\">Privacy</p>, <p class=\"bv b bw bx ia\">Terms</p>, <p class=\"bv b bw bx ia\">About</p>, <p class=\"bv b bw bx ia\">Knowable</p>]\n",
      "\n",
      "File saved in directory scraped_articles/.txt\n"
     ]
    }
   ],
   "source": [
    "import os\n",
    "import requests\n",
    "import re\n",
    "# Code here - Import BeautifulSoup library\n",
    "from bs4 import BeautifulSoup\n",
    "\n",
    "# Code ends here\n",
    "\n",
    "# function to get the html source text of the medium article\n",
    "def get_page():\n",
    "\tglobal url\n",
    "\t\n",
    "\t# Code here - Ask the user to input \"Enter url of a medium article: \" and collect it in url\n",
    "\tprint('enter url of a medium article:')\n",
    "\turl = input('>')\n",
    "\t# Code ends here\n",
    "\t\n",
    "\t# handling possible error\n",
    "\tif not re.match(r'https?://medium.com/',url):\n",
    "\t\tprint('Please enter a valid website, or make sure it is a medium article')\n",
    "\t\tsys.exit(1)\n",
    "\n",
    "\t# Code here - Call get method in requests object, pass url and collect it in res\n",
    "\tres = requests.get(url)\n",
    "\t\n",
    "\t# Code ends here\n",
    "\n",
    "\tres.raise_for_status()\n",
    "\tsoup = BeautifulSoup(res.text, 'html.parser')\n",
    "\treturn soup\n",
    "\n",
    "# function to remove all the html tags and replace some with specific strings\n",
    "def clean(text):\n",
    "    rep = {\"<br>\": \"\\n\", \"<br/>\": \"\\n\", \"<li>\":  \"\\n\"}\n",
    "    rep = dict((re.escape(k), v) for k, v in rep.items()) \n",
    "    pattern = re.compile(\"|\".join(rep.keys()))\n",
    "    text = pattern.sub(lambda m: rep[re.escape(m.group(0))], text)\n",
    "    text = re.sub('\\<(.*?)\\>', '', text)\n",
    "    return text\n",
    "\n",
    "\n",
    "def collect_text(soup):\n",
    "\ttext = f'url: {url}\\n\\n'\n",
    "\tpara_text = soup.find_all('p')\n",
    "\tprint(f\"paragraphs text = \\n {para_text}\")\n",
    "\tfor para in para_text:\n",
    "\t\ttext += f\"{para.text}\\n\\n\"\n",
    "\treturn text\n",
    "\n",
    "# function to save file in the current directory\n",
    "def save_file(text):\n",
    "\tif not os.path.exists('./scraped_articles'):\n",
    "\t\tos.mkdir('./scraped_articles')\n",
    "\tname = url.split(\"/\")[-1]\n",
    "\tprint(name)\n",
    "\tfname = f'scraped_articles/{name}.txt'\n",
    "\t\n",
    "\t# Code here - write a file using with (2 lines)\n",
    "\twith open(fname,'w') as f:\n",
    "\t\tf.write(fname)\n",
    "\n",
    "\t# Code ends here\n",
    "\n",
    "\tprint(f'File saved in directory {fname}')\n",
    "\n",
    "\n",
    "if __name__ == '__main__':\n",
    "\ttext = collect_text(get_page())\n",
    "\tsave_file(text)\n",
    "\t# Instructions to Run this python code\n",
    "\t# Give url as https://medium.com/@subashgandyer/papa-what-is-a-neural-network-c5e5cc427c7"
   ]
  },
  {
   "cell_type": "code",
   "execution_count": null,
   "id": "70f532d0",
   "metadata": {},
   "outputs": [],
   "source": []
  },
  {
   "cell_type": "code",
   "execution_count": null,
   "id": "cfe24935",
   "metadata": {},
   "outputs": [],
   "source": []
  }
 ],
 "metadata": {
  "kernelspec": {
   "display_name": "Python 3 (ipykernel)",
   "language": "python",
   "name": "python3"
  },
  "language_info": {
   "codemirror_mode": {
    "name": "ipython",
    "version": 3
   },
   "file_extension": ".py",
   "mimetype": "text/x-python",
   "name": "python",
   "nbconvert_exporter": "python",
   "pygments_lexer": "ipython3",
   "version": "3.9.7"
  }
 },
 "nbformat": 4,
 "nbformat_minor": 5
}
